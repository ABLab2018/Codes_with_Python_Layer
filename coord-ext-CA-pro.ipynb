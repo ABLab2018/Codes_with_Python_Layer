{
 "cells": [
  {
   "cell_type": "code",
   "execution_count": 4,
   "id": "bf2cc475-cd91-4a5c-b765-552dbccd869d",
   "metadata": {},
   "outputs": [
    {
     "name": "stdout",
     "output_type": "stream",
     "text": [
      "✅ Fortran code saved as coord_ext_CA_pro.f\n",
      "✅ Fortran code compiled into executable 'coord_ext_CA_pro'\n",
      "✅ Fortran program executed\n"
     ]
    }
   ],
   "source": [
    "import subprocess\n",
    "import os\n",
    "import glob\n",
    "\n",
    "#Step 1: Save the Fortran program into a file\n",
    "code = r\"\"\"\n",
    "c     extract Calpha coordinates of target proteins\t\n",
    "      program coord_ext_CA_pro\n",
    "      parameter(n=2,m=50000)\n",
    "      \n",
    "      character pdb(n)*8,coord(n)*10,aaname(m)*6,atom(m)*4,aa(m)*3\n",
    "      real x(m),y(m),z(m)\n",
    "      integer rescount,pp\n",
    "      \n",
    "      open(1,file=\"pdb-ID\")\n",
    "      open(2,file=\"pdb-coord\")\n",
    "      \n",
    "      do i=1,n\n",
    "      read(1,\"(a8)\") pdb(i)\n",
    "      read(2,\"(a10)\") coord(i)\n",
    "      enddo\n",
    "      \n",
    "      do i=1,n\n",
    "         open(3,file=pdb(i))\n",
    "         \n",
    "         do j=1,m\n",
    "            rescount=j\n",
    "            read(3,1000,err=150,end=160) aaname(j),atom(j),aa(j),\n",
    "     &         x(j),y(j),z(j)\n",
    "1000        format(a6,7x,a4,a3,11x,f7.3,1x,f7.3,1x,f7.3)\n",
    "150      enddo\n",
    "         \n",
    "160      pp=rescount\n",
    "c         write(*,*)rescount\n",
    "         \n",
    "         do j=1,rescount-1\n",
    "            if (aaname(j) .eq. \"ATOM  \".and. atom(j) .eq. \"CA  \") then\n",
    "               open(2,file=coord(i))\n",
    "               write(2,2000) x(j),y(j),z(j)\n",
    "2000           format (f7.3,5x,f7.3,5x,f7.3)\t\n",
    "            endif\n",
    "         enddo\n",
    "      enddo\n",
    "      \n",
    "      stop\n",
    "      end\n",
    "\"\"\"\n",
    "\n",
    "with open(\"coord_ext_CA_pro.f\", \"w\") as f:\n",
    "    f.write(code)\n",
    "print(\"✅ Fortran code saved as coord_ext_CA_pro.f\")\n",
    "\n",
    "#Step 2: Compile the Fortran code using gfortran\n",
    "subprocess.run([\"gfortran\", \"coord_ext_CA_pro.f\", \"-o\", \"coord_ext_CA_pro\"], check=True)\n",
    "\n",
    "#Step 3: Run the Fortran executable\n",
    "subprocess.run([\"./coord_ext_CA_pro\"], check=True)\n",
    "print(\"✅ Fortran program executed\")\n"
   ]
  },
  {
   "cell_type": "code",
   "execution_count": null,
   "id": "03cf211e-c504-4927-ab29-40c14bcebe69",
   "metadata": {},
   "outputs": [],
   "source": []
  }
 ],
 "metadata": {
  "kernelspec": {
   "display_name": "Python 3 (ipykernel)",
   "language": "python",
   "name": "python3"
  },
  "language_info": {
   "codemirror_mode": {
    "name": "ipython",
    "version": 3
   },
   "file_extension": ".py",
   "mimetype": "text/x-python",
   "name": "python",
   "nbconvert_exporter": "python",
   "pygments_lexer": "ipython3",
   "version": "3.12.7"
  }
 },
 "nbformat": 4,
 "nbformat_minor": 5
}
