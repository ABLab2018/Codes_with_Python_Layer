{
 "cells": [
  {
   "cell_type": "code",
   "execution_count": 2,
   "id": "6724ad71-44b3-4dab-a32c-608e1117b6e0",
   "metadata": {},
   "outputs": [
    {
     "name": "stdout",
     "output_type": "stream",
     "text": [
      "✅ Fortran program executed\n"
     ]
    }
   ],
   "source": [
    "import subprocess\n",
    "import os\n",
    "import glob\n",
    "\n",
    "# --- Step 1: Save the Fortran program into a file ---\n",
    "code = r\"\"\"\n",
    "\tparameter(nm=10,na=20,nf=200,nbin=200)\n",
    "\t\n",
    "\tcharacter potfile(na,nm)*11\n",
    "\t\n",
    "\tcharacter pot(nbin)*12\n",
    "\tinteger count\n",
    "\t\n",
    "\topen(1,file=\"potential-all-aa-files\")\n",
    "\t\n",
    "\tdo i=1,na\n",
    "\tdo j=1,nm\n",
    "\n",
    "\tread(1,\"(a11)\") potfile(i,j)\n",
    "\t\n",
    "\tenddo\n",
    "\tenddo\n",
    "\t\n",
    "\tdo i=1,na\n",
    "\tdo j=1,nm\n",
    "\t\n",
    "\topen(2,file=\"pot-all-aa-test/\"//potfile(i,j))\n",
    "\topen(3,file=\"pot-all-aa-test-edit/\"//potfile(i,j))\n",
    "\t\n",
    "\tdo k=1,nbin\n",
    "\t\n",
    "\tread(2,\"(a12)\") pot(k)\n",
    "\t\n",
    "\tif (pot(k) .eq. \"    Infinity\" .or. \n",
    "     $   pot(k) .eq. \"         NaN\") then\n",
    "     \n",
    "\twrite(3,\"(8x,a4)\") \"0.07\"\n",
    "\t\n",
    "\telse\n",
    "\twrite(3,\"(a12)\") pot(k)\n",
    "\tendif\n",
    "\t\n",
    "\tenddo\n",
    "\n",
    "\tenddo\n",
    "\tenddo\n",
    "\t\n",
    "\tstop\n",
    "\tend\n",
    "\"\"\"\n",
    "\n",
    "with open(\"all-pot-replace-infinity.f\", \"w\") as f:\n",
    "    f.write(code)\n",
    "# --- Step 2: Compile the Fortran code using gfortran ---\n",
    "\n",
    "subprocess.run([\"gfortran\", \"all-pot-replace-infinity.f\", \"-o\", \"all-pot-replace-infinity\"], check=True)\n",
    "# Step 3: Prepare results folder \n",
    "os.makedirs(\"pot-all-aa-test-edit\", exist_ok=True)\n",
    "\n",
    "# Step 4: Run the Fortran executable \n",
    "subprocess.run([\"./all-pot-replace-infinity\"], check=True)\n",
    "print(\"✅ Fortran program executed\")\n"
   ]
  },
  {
   "cell_type": "code",
   "execution_count": null,
   "id": "5ddd32bb-f5d9-42ad-b55b-36195a71b935",
   "metadata": {},
   "outputs": [],
   "source": []
  }
 ],
 "metadata": {
  "kernelspec": {
   "display_name": "Python 3 (ipykernel)",
   "language": "python",
   "name": "python3"
  },
  "language_info": {
   "codemirror_mode": {
    "name": "ipython",
    "version": 3
   },
   "file_extension": ".py",
   "mimetype": "text/x-python",
   "name": "python",
   "nbconvert_exporter": "python",
   "pygments_lexer": "ipython3",
   "version": "3.12.7"
  }
 },
 "nbformat": 4,
 "nbformat_minor": 5
}
