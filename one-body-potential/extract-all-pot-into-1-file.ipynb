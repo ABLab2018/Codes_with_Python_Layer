{
 "cells": [
  {
   "cell_type": "code",
   "execution_count": null,
   "id": "64acb043-4c5d-45fa-9e56-30f0e1140b0a",
   "metadata": {},
   "outputs": [],
   "source": [
    "import subprocess\n",
    "import os\n",
    "import glob\n",
    "\n",
    "# --- Step 1: Save the Fortran program into a file ---\n",
    "code = r\"\"\"\n",
    "\tparameter(nm=10,na=20,nf=200,nbin=200)\n",
    "\t\n",
    "\tcharacter potfile(na,nm)*11\n",
    "\t\n",
    "\tcharacter pot(na,nm,nbin)*12\n",
    "\tinteger count\n",
    "\t\n",
    "\topen(1,file=\"potential-all-aa-files\")\n",
    "\topen(2,file=\"one-body-potential-nn10-modified\")\n",
    "\t\n",
    "\tdo i=1,na\n",
    "\tdo j=1,nm\n",
    "\tread(1,\"(a11)\") potfile(i,j)\n",
    "\tenddo\n",
    "\tenddo\n",
    "\t\n",
    "\tdo i=1,na\n",
    "\tdo j=1,nm\n",
    "\topen(3,file=\"pot-all-aa-test-edit/\"//potfile(i,j))\n",
    "\t\n",
    "\tdo k=1,nbin\n",
    "\tread(3,\"(a12)\") pot(i,j,k)\n",
    "\tenddo\n",
    "\tenddo\n",
    "\tenddo\n",
    "\t\n",
    "\tdo i=1,na\n",
    "\tdo j=1,nm\t\n",
    "\tdo k=1,nbin\n",
    "\twrite(2,\"(a12)\") pot(i,j,k)\n",
    "\tenddo\n",
    "\tenddo\n",
    "\tenddo\n",
    "\t\n",
    "\tstop\n",
    "\tend\n",
    "\"\"\"\n",
    "\n",
    "with open(\"extract-all-pot-into-1-file.f\", \"w\") as f:\n",
    "    f.write(code)\n",
    "# --- Step 2: Compile the Fortran code using gfortran ---\n",
    "\n",
    "subprocess.run([\"gfortran\", \"extract-all-pot-into-1-file.f\", \"-o\", \"extract-all-pot-into-1-file\"], check=True)\n",
    "\n",
    "# Step 3: Run the Fortran executable \n",
    "subprocess.run([\"./extract-all-pot-into-1-file\"], check=True)\n",
    "print(\"✅ Fortran program executed\")\n"
   ]
  }
 ],
 "metadata": {
  "kernelspec": {
   "display_name": "Python 3 (ipykernel)",
   "language": "python",
   "name": "python3"
  },
  "language_info": {
   "codemirror_mode": {
    "name": "ipython",
    "version": 3
   },
   "file_extension": ".py",
   "mimetype": "text/x-python",
   "name": "python",
   "nbconvert_exporter": "python",
   "pygments_lexer": "ipython3",
   "version": "3.12.7"
  }
 },
 "nbformat": 4,
 "nbformat_minor": 5
}
