import subprocess
import os
import glob

# --- Step 1: Save the Fortran program into a file ---
code = r"""
	parameter(nm=10,na=20,nf=200,nbin=200)
	
	character filename(na,nm)*15,nndist(nm)*20
	
	real sum1(nbin),nn(nbin)
	
	open(1,file="file-list")
	open(3,file="nndistfile")
	
	do i=1,na
	do j=1,nm
	
	read(1,"(a15)") filename(i,j)
c	write(*,"(a15)") filename(i,j)
	
	enddo
	enddo
	
	do i=1,nm
	read(3,"(a20)") nndist(i)
	enddo
     
c	write(*,"(a15)") filename(2,1),filename(3,1),filename(4,1),
c     $   filename(5,1),filename(6,1)
	
	do j=1,nm
	do i=1,na
	
	open(2,file="bin-nn-distance-all-aa/"//filename(i,j))
	
	do k=1,nbin
	read(2,*) nn(k)
	enddo
	
	open(7,file=nndist(j))
	
	do k=1,nbin
	write(7,"(F12.8)") nn(k)
	enddo
c	sum1(k)=0.0
c	sum1(k)=sum1(k)+nn(k)
	
	enddo	
	enddo
	
	
	stop
	end
"""

with open("extract-nn-distance-into-single-file.f", "w") as f:
    f.write(code)
# --- Step 2: Compile the Fortran code using gfortran ---

subprocess.run(["gfortran", "extract-nn-distance-into-single-file.f", "-o", "extract-nn-distance-into-single-file"], check=True)

# Step 3: Run the Fortran executable 
subprocess.run(["./extract-nn-distance-into-single-file"], check=True)
print("✅ Fortran program executed")
