{
 "cells": [
  {
   "cell_type": "code",
   "execution_count": 5,
   "id": "34ea8be2-186a-44ce-b1a5-62185fe3eac4",
   "metadata": {},
   "outputs": [
    {
     "name": "stdout",
     "output_type": "stream",
     "text": [
      "nn-dist-1-all-bin-av\n",
      "nn-dist-2-all-bin-av\n",
      "nn-dist-3-all-bin-av\n",
      "nn-dist-4-all-bin-av\n",
      "nn-dist-5-all-bin-av\n",
      "nn-dist-6-all-bin-av\n",
      "nn-dist-7-all-bin-av\n",
      "nn-dist-8-all-bin-av\n",
      "nn-dist-9-all-bin-av\n",
      "nn-dist10-all-bin-av\n",
      "✅ Fortran program executed\n"
     ]
    },
    {
     "name": "stderr",
     "output_type": "stream",
     "text": [
      "Note: The following floating-point exceptions are signalling: IEEE_INVALID_FLAG IEEE_DIVIDE_BY_ZERO\n"
     ]
    }
   ],
   "source": [
    "import subprocess\n",
    "import os\n",
    "import glob\n",
    "\n",
    "# --- Step 1: Save the Fortran program into a file ---\n",
    "code = r\"\"\"\n",
    "\tparameter(nm=10,na=20,nbin=200)\n",
    "\t\n",
    "\tcharacter filename(na,nm)*15,potfile(na,nm)*11\n",
    "\tcharacter nndistfilesav(nm)*20\n",
    "\t\n",
    "\treal av(nbin),nn(nbin),pot(nbin)\n",
    "\t\n",
    "\topen(1,file=\"file-list\")\n",
    "\topen(2,file=\"potential-all-aa-files\")\n",
    "\topen(3,file=\"nndistfile-av\")\n",
    "\t\n",
    "\tdo i=1,na\n",
    "\tdo j=1,nm\n",
    "\t\n",
    "\tread(1,\"(a15)\") filename(i,j)\n",
    "\tread(2,\"(a11)\") potfile(i,j)\n",
    "\t\n",
    "\tenddo\n",
    "\tenddo\n",
    "\t\n",
    "c\twrite(*,\"(a15)\") filename(1,1),filename(2,1)\n",
    "c\twrite(*,\"(a11)\") potfile(1,1),potfile(2,1)\n",
    "\t\n",
    "\tdo i=1,nm\n",
    "\tread(3,\"(a20)\") nndistfilesav(i)\n",
    "\t\n",
    "\twrite(*,\"(a20)\") nndistfilesav(i)\n",
    "\tenddo\n",
    "\t\n",
    "\tdo i=1,na\n",
    "\tdo j=1,nm\n",
    "\t\n",
    "\topen(7,file=\"bin-nn-distance-all-aa/\"//filename(i,j))\n",
    "\tdo k=1,nbin\n",
    "\tread(7,\"(F12.8)\") nn(k) \n",
    "\tenddo\n",
    "\n",
    "\topen(8,file=nndistfilesav(j))\n",
    "\tdo kk=1,nbin\n",
    "\tread(8,\"(F12.8)\") av(kk)\n",
    "\tenddo\n",
    "\t\n",
    "\tdo kkk=1,nbin\n",
    "\tpot(kkk)=(-LOG(nn(kkk)/av(kkk)))*nn(kkk)\n",
    "\tenddo\n",
    "\t\n",
    "\topen(9,file=\"pot-all-aa-test/\"//potfile(i,j))\n",
    "\tdo k=1,nbin\n",
    "\twrite(9,\"(F12.8)\") pot(k)\n",
    "\tenddo\n",
    "\t\n",
    "\tenddo\n",
    "\tenddo\t\n",
    "\t\n",
    "\tstop\n",
    "\tend\n",
    "\"\"\"\n",
    "\n",
    "with open(\"pot-gen-modified.f\", \"w\") as f:\n",
    "    f.write(code)\n",
    "# --- Step 2: Compile the Fortran code using gfortran ---\n",
    "\n",
    "subprocess.run([\"gfortran\", \"pot-gen-modified.f\", \"-o\", \"pot-gen-modified\"], check=True)\n",
    "# Step 3: Prepare results folder \n",
    "os.makedirs(\"pot-all-aa-test\", exist_ok=True)\n",
    "\n",
    "# Step 4: Run the Fortran executable \n",
    "subprocess.run([\"./pot-gen-modified\"], check=True)\n",
    "print(\"✅ Fortran program executed\")\n"
   ]
  },
  {
   "cell_type": "code",
   "execution_count": null,
   "id": "196d747c-f89d-42eb-b6d3-bf5c234c4df8",
   "metadata": {},
   "outputs": [],
   "source": []
  }
 ],
 "metadata": {
  "kernelspec": {
   "display_name": "Python 3 (ipykernel)",
   "language": "python",
   "name": "python3"
  },
  "language_info": {
   "codemirror_mode": {
    "name": "ipython",
    "version": 3
   },
   "file_extension": ".py",
   "mimetype": "text/x-python",
   "name": "python",
   "nbconvert_exporter": "python",
   "pygments_lexer": "ipython3",
   "version": "3.12.7"
  }
 },
 "nbformat": 4,
 "nbformat_minor": 5
}
