{
 "cells": [
  {
   "cell_type": "code",
   "execution_count": 2,
   "id": "84512ef6-6a84-4f8d-9714-e98a735c6cb9",
   "metadata": {},
   "outputs": [
    {
     "name": "stdout",
     "output_type": "stream",
     "text": [
      "✅ Fortran program executed\n"
     ]
    }
   ],
   "source": [
    "import subprocess\n",
    "import os\n",
    "import glob\n",
    "\n",
    "# --- Step 1: Save the Fortran program into a file ---\n",
    "code = r\"\"\"\n",
    "\tparameter (np=4931,n=56)\n",
    "\tdimension f(np),seq(n)\n",
    "\tcharacter f*9,seq*3\n",
    "\treal c(np,n,3)\n",
    "\tinteger count\n",
    "\n",
    "\topen(1,file='pdbname')\n",
    "\tdo i=1,np\n",
    "\tread(1,\"(a9)\")f(i)\n",
    "\tenddo\n",
    "\n",
    "\topen(2,file='CA-coord-gen-conf-after-threading-2LHC')\n",
    "\tdo i=1,np\n",
    "\tdo j=1,n\n",
    "\tread(2,*,end=20)(c(i,j,k),k=1,3)\n",
    "\tenddo\n",
    "\tenddo\n",
    "\n",
    "20\topen(7,file='sequenceGLY')\n",
    "\tdo i=1,n\n",
    "\tread(7,\"(a3)\")seq(i)\n",
    "\tenddo\n",
    "\n",
    "\tdo i=1,np\n",
    "\topen(3,file=\"pdb-2LHC/\"//f(i))\n",
    "\t\n",
    "\tdo j=1,n\n",
    "\twrite(3,3000)'ATOM  ',j,' CA',seq(j),'A',j,c(i,j,1),c(i,j,2),\n",
    "     $  c(i,j,3),'1.00','00.00'\n",
    "3000\tformat(a6,i5,1x,a3,2x,a3,1x,a1,i4,4x,f8.3,f8.3\n",
    "     $  ,f8.3,2x,a4,1x,a5)\n",
    "\tenddo\n",
    "\n",
    "\tenddo\n",
    "\n",
    "\tstop\n",
    "\tend\n",
    "\"\"\"\n",
    "\n",
    "with open(\"pdb.f\", \"w\") as f:\n",
    "    f.write(code)\n",
    "# --- Step 2: Compile the Fortran code using gfortran ---\n",
    "\n",
    "subprocess.run([\"gfortran\", \"pdb.f\", \"-o\", \"pdb\"], check=True)\n",
    "\n",
    "# Step 3: Prepare results folder \n",
    "os.makedirs(\"pdb-2LHC\", exist_ok=True)\n",
    "\n",
    "# Step 4: Run the Fortran executable \n",
    "subprocess.run([\"./pdb\"], check=True)\n",
    "print(\"✅ Fortran program executed\")\n"
   ]
  },
  {
   "cell_type": "code",
   "execution_count": null,
   "id": "ae3ffa39-0791-4e57-8fbb-df9fb6c7638e",
   "metadata": {},
   "outputs": [],
   "source": []
  }
 ],
 "metadata": {
  "kernelspec": {
   "display_name": "Python 3 (ipykernel)",
   "language": "python",
   "name": "python3"
  },
  "language_info": {
   "codemirror_mode": {
    "name": "ipython",
    "version": 3
   },
   "file_extension": ".py",
   "mimetype": "text/x-python",
   "name": "python",
   "nbconvert_exporter": "python",
   "pygments_lexer": "ipython3",
   "version": "3.12.7"
  }
 },
 "nbformat": 4,
 "nbformat_minor": 5
}
