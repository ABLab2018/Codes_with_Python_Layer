{
 "cells": [
  {
   "cell_type": "code",
   "execution_count": 1,
   "id": "067bda89-4d71-4d21-9808-b03c640b646d",
   "metadata": {},
   "outputs": [
    {
     "name": "stdout",
     "output_type": "stream",
     "text": [
      "✅ Fortran program executed\n"
     ]
    }
   ],
   "source": [
    "import subprocess\n",
    "import os\n",
    "import glob\n",
    "\n",
    "# --- Step 1: Save the Fortran program into a file ---\n",
    "code = r\"\"\"\n",
    "\tparameter (p=20,n=400, m=30098)\n",
    "c\tdimension aa(n),aa1(m)\n",
    "\tcharacter aa1(n)*1,aa2(n)*1,aa3(m)*1,aa4(m)*1\n",
    "\treal sum1(n),sum2(n)\n",
    "\n",
    "\topen(1,file=\"aminoacids-pair\")\n",
    "\topen(2,file=\"all-contact-file\")\n",
    "c\topen(3,file=\"aminoacids\")\n",
    "\topen(4,file=\"actual-pair-probability-file-new\")\n",
    "\n",
    "\tdo i=1,n\n",
    "\tread(1,100) aa1(i),aa2(i)\n",
    "100\tformat(a1,a1)\n",
    "c\twrite(*,\"(a2)\") aa(i)\n",
    "\tenddo\n",
    "\n",
    "\n",
    "\tdo i=1,m\n",
    "\tread(2,300) aa3(i),aa4(i)\n",
    "300\tformat(a1,a1)\n",
    "c\twrite(*,*) aa1(i)\n",
    "\tenddo\n",
    "\n",
    "\n",
    "\tdo i=1,n\n",
    "\tsum1(i)=0\n",
    "\tsum2(i)=0\t\n",
    "\t\n",
    "\tdo j=1,m\n",
    "\tif (aa1(i) .eq. aa3(j) .and. aa2(i) .eq. aa4(j) .or.\n",
    "     $   aa1(i) .eq. aa4(j) .and. aa2(i) .eq. aa3(j)) then\n",
    "\n",
    "\tsum1(i)=sum1(i)+1\n",
    "\tendif\n",
    "\tenddo\n",
    "\n",
    "\tsum2(i)=sum1(i)/m\n",
    "\n",
    "\twrite(4,\"(a1,a1,5x,f7.1,5x,f8.6)\") aa1(i),aa2(i),sum1(i),sum2(i)\n",
    "\tenddo\n",
    "\t\n",
    "\tstop\n",
    "\tend\n",
    "\"\"\"\n",
    "\n",
    "with open(\"actual-pair-prob.f\", \"w\") as f:\n",
    "    f.write(code)\n",
    "# --- Step 2: Compile the Fortran code using gfortran ---\n",
    "\n",
    "subprocess.run([\"gfortran\", \"actual-pair-prob.f\", \"-o\", \"actual-pair-prob\"], check=True)\n",
    "\n",
    "# Step 3: Run the Fortran executable \n",
    "subprocess.run([\"./actual-pair-prob\"], check=True)\n",
    "print(\"✅ Fortran program executed\")\n"
   ]
  },
  {
   "cell_type": "code",
   "execution_count": null,
   "id": "cb920f2f-83e3-4cb9-9353-94992d82ab55",
   "metadata": {},
   "outputs": [],
   "source": []
  }
 ],
 "metadata": {
  "kernelspec": {
   "display_name": "Python 3 (ipykernel)",
   "language": "python",
   "name": "python3"
  },
  "language_info": {
   "codemirror_mode": {
    "name": "ipython",
    "version": 3
   },
   "file_extension": ".py",
   "mimetype": "text/x-python",
   "name": "python",
   "nbconvert_exporter": "python",
   "pygments_lexer": "ipython3",
   "version": "3.12.7"
  }
 },
 "nbformat": 4,
 "nbformat_minor": 5
}
