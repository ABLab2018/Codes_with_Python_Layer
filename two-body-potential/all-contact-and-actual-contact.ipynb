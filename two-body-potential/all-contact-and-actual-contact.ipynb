{
 "cells": [
  {
   "cell_type": "code",
   "execution_count": 2,
   "id": "63fb41a0-96d9-496b-9d36-1ae6a8656be6",
   "metadata": {},
   "outputs": [
    {
     "name": "stdout",
     "output_type": "stream",
     "text": [
      "✅ Fortran program executed\n"
     ]
    }
   ],
   "source": [
    "import subprocess\n",
    "import os\n",
    "import glob\n",
    "\n",
    "# --- Step 1: Save the Fortran program into a file ---\n",
    "code = r\"\"\"\n",
    "\tparameter (n=400, m=500, mp=2000, rcut=5)\n",
    "\tdimension x(m,mp),y(m,mp),z(m,mp)\n",
    "\tcharacter aa(mp,mp)*1,aa1(n)*1,aa2(n)*1,dcl(m)*8\n",
    "\tinteger pp,rescount\n",
    "\treal sum1, sum2, sum3, sum4,r(n,mp,mp)\n",
    "\n",
    "\topen(1,file=\"pdb-id-final-pot-gen-500-pro\")\n",
    "\topen(2,file=\"aminoacids-pair\")\t\n",
    "\topen(3,file=\"total-actual-contacts\")\n",
    "\topen(4,file=\"all-contact-file\")\n",
    "\n",
    "\tdo i=1,m\n",
    "\tread(1,\"(a8)\") dcl(i)\n",
    "\tenddo\n",
    "\n",
    "\tdo j=1,n\n",
    "\tread(2,\"(a1,a1)\") aa1(j),aa2(j)\n",
    "\tenddo\n",
    "\t\n",
    "\tsum1=0.0\n",
    "\tdo i=1,n\n",
    "\tdo j=1,m\n",
    "\topen(5,file=\"coord-CA-500-pro/\"//dcl(j)) \n",
    "\n",
    "\tdo k=1,mp\n",
    "\trescount=k\n",
    "\tread(5,300,err=500,end=1000) aa(j,k),x(j,k),y(j,k),z(j,k)\n",
    "300 \tformat (a1,3x,F10.3,3x,F10.3,3x,F10.3)\n",
    "500\tenddo\n",
    "\n",
    "1000\tpp=rescount\n",
    "\tdo k=1,pp\n",
    "\tdo l=k+2,pp\n",
    "\n",
    "\tif(aa1(i).eq.aa(j,k) .and. aa2(i).eq.aa(j,l)) then\n",
    "\t\n",
    "\tr(i,k,l)=sqrt((x(j,k)-x(j,l))**2+(y(j,k)-y(j,l))**2+\n",
    "     $  (z(j,k)-z(j,l))**2)\n",
    "\n",
    "\tif(r(i,k,l) .lt. rcut) then\n",
    "\t\n",
    "\tsum1=sum1+1\n",
    "\twrite(4,\"(a1,a1)\") aa(j,k),aa(j,l)\n",
    "\tendif\n",
    "\tendif\n",
    "\tenddo\n",
    "\tenddo\n",
    "\tenddo\n",
    "\tenddo\n",
    "\twrite(3,*)sum1\n",
    "\n",
    "\tstop\n",
    "\tend\n",
    "\"\"\"\n",
    "\n",
    "with open(\"all-contact-and-actual-contact.f\", \"w\") as f:\n",
    "    f.write(code)\n",
    "# --- Step 2: Compile the Fortran code using gfortran ---\n",
    "\n",
    "subprocess.run([\"gfortran\", \"all-contact-and-actual-contact.f\", \"-o\", \"all-contact-and-actual-contact\"], check=True)\n",
    "\n",
    "# Step 3: Run the Fortran executable \n",
    "subprocess.run([\"./all-contact-and-actual-contact\"], check=True)\n",
    "print(\"✅ Fortran program executed\")\n"
   ]
  },
  {
   "cell_type": "code",
   "execution_count": null,
   "id": "e6527c72-7a6e-4802-8633-97c87b6683fc",
   "metadata": {},
   "outputs": [],
   "source": []
  }
 ],
 "metadata": {
  "kernelspec": {
   "display_name": "Python 3 (ipykernel)",
   "language": "python",
   "name": "python3"
  },
  "language_info": {
   "codemirror_mode": {
    "name": "ipython",
    "version": 3
   },
   "file_extension": ".py",
   "mimetype": "text/x-python",
   "name": "python",
   "nbconvert_exporter": "python",
   "pygments_lexer": "ipython3",
   "version": "3.12.7"
  }
 },
 "nbformat": 4,
 "nbformat_minor": 5
}
