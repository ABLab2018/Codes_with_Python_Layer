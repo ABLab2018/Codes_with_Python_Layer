{
 "cells": [
  {
   "cell_type": "code",
   "execution_count": 2,
   "id": "31991293-e4dc-4af9-b357-e3d36ab62fda",
   "metadata": {},
   "outputs": [
    {
     "name": "stdout",
     "output_type": "stream",
     "text": [
      "       60196\n",
      "       60196\n",
      "       60196\n",
      "       60196\n",
      "       60196\n",
      "       60196\n",
      "       60196\n",
      "       60196\n",
      "       60196\n",
      "       60196\n",
      "       60196\n",
      "       60196\n",
      "       60196\n",
      "       60196\n",
      "       60196\n",
      "       60196\n",
      "       60196\n",
      "       60196\n",
      "       60196\n",
      "       60196\n",
      "✅ Fortran program executed\n"
     ]
    }
   ],
   "source": [
    "import subprocess\n",
    "import os\n",
    "import glob\n",
    "\n",
    "# --- Step 1: Save the Fortran program into a file ---\n",
    "code = r\"\"\"\n",
    "\tparameter (n=20, m=30098,p=60196)\n",
    "\t\n",
    "\tcharacter aa(n)*1,aa1(m)*1,aa2(m)*2\n",
    "\treal sum1(n),sum2(n)\n",
    "\n",
    "\topen(1,file=\"aminoacids\")\t\n",
    "\topen(2,file=\"all-contact-file\")\n",
    "\topen(3,file=\"individual-occur-prob-file\")\n",
    "\n",
    "\tdo i=1,n\n",
    "\tread(1,\"(a1)\") aa(i)\n",
    "\tenddo\n",
    "\n",
    "\tdo i=1,m\n",
    "\tread(2,\"(a1,a1)\") aa1(i),aa2(i)\n",
    "\tenddo\n",
    "\t\n",
    "\t\n",
    "\tdo i=1,n\n",
    "\tsum1(i)=0\n",
    "\n",
    "\tdo j=1,m\n",
    "\n",
    "\tif (aa(i) .eq. aa1(j) .or. aa(i) .eq. aa2(j)) then\n",
    "\tsum1(i)=sum1(i)+1\n",
    "\tendif\n",
    "\n",
    "\tenddo\n",
    "c\tsum2(i)= sum1(i)/m\n",
    "\tsum2(i)= sum1(i)/p\n",
    "\twrite(*,*) m*2\n",
    "\twrite (3,\"(a1,5x,f8.1,5x,f7.3)\") aa(i), sum1(i), sum2(i)\n",
    "\t\n",
    "\tenddo\n",
    "\t\n",
    "\tstop\n",
    "\tend\n",
    "\"\"\"\n",
    "\n",
    "with open(\"individual-probability-all-aminoacids.f\", \"w\") as f:\n",
    "    f.write(code)\n",
    "# --- Step 2: Compile the Fortran code using gfortran ---\n",
    "\n",
    "subprocess.run([\"gfortran\", \"individual-probability-all-aminoacids.f\", \"-o\", \"individual-probability-all-aminoacids\"], check=True)\n",
    "\n",
    "# Step 3: Run the Fortran executable \n",
    "subprocess.run([\"./individual-probability-all-aminoacids\"], check=True)\n",
    "print(\"✅ Fortran program executed\")\n"
   ]
  },
  {
   "cell_type": "code",
   "execution_count": null,
   "id": "4b77c530-a94d-4154-bf1b-fcbacb06af0b",
   "metadata": {},
   "outputs": [],
   "source": []
  }
 ],
 "metadata": {
  "kernelspec": {
   "display_name": "Python 3 (ipykernel)",
   "language": "python",
   "name": "python3"
  },
  "language_info": {
   "codemirror_mode": {
    "name": "ipython",
    "version": 3
   },
   "file_extension": ".py",
   "mimetype": "text/x-python",
   "name": "python",
   "nbconvert_exporter": "python",
   "pygments_lexer": "ipython3",
   "version": "3.12.7"
  }
 },
 "nbformat": 4,
 "nbformat_minor": 5
}
