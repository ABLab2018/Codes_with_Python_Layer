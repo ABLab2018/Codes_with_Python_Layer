{
 "cells": [
  {
   "cell_type": "code",
   "execution_count": 1,
   "id": "e39ddd22-bd98-431e-b665-9496fef8fbb0",
   "metadata": {},
   "outputs": [
    {
     "name": "stdout",
     "output_type": "stream",
     "text": [
      "✅ Fortran program executed\n"
     ]
    }
   ],
   "source": [
    "import subprocess\n",
    "import os\n",
    "import glob\n",
    "\n",
    "# --- Step 1: Save the Fortran program into a file ---\n",
    "code = r\"\"\"\n",
    "\tparameter (n=400)\n",
    "\tcharacter aa(n)*2\n",
    "\treal mulprob(n),actprob(n)\n",
    "\n",
    "\topen(1,file=\"multi-individual-prob-file\")\n",
    "\topen(2,file=\"actual-pair-probability-file-new\")\n",
    "\topen(3,file=\"multi-indi-prob-and-actual-pair-prob-file-new\")\n",
    "\n",
    "\tdo i=1,n\n",
    "\tread(1,\"(a2,5x,f8.6)\") aa(i),mulprob(i)\n",
    "\tenddo\n",
    "\n",
    "\tdo i=1,n\n",
    "\tread(2,\"(19x,f8.6)\") actprob(i)\n",
    "\tenddo\n",
    "\n",
    "\tdo i=1,n\n",
    "\twrite(3,\"(a2,5x,f8.6,5x,f8.6)\") aa(i),mulprob(i),actprob(i)\n",
    "\tenddo\n",
    "\n",
    "\tstop\n",
    "\tend\n",
    "\"\"\"\n",
    "\n",
    "with open(\"multi-indi-prob-and-actual-pair-prob.f\", \"w\") as f:\n",
    "    f.write(code)\n",
    "# --- Step 2: Compile the Fortran code using gfortran ---\n",
    "\n",
    "subprocess.run([\"gfortran\", \"multi-indi-prob-and-actual-pair-prob.f\", \"-o\", \"multi-indi-prob-and-actual-pair-prob\"], check=True)\n",
    "\n",
    "# Step 3: Run the Fortran executable \n",
    "subprocess.run([\"./multi-indi-prob-and-actual-pair-prob\"], check=True)\n",
    "print(\"✅ Fortran program executed\")\n"
   ]
  },
  {
   "cell_type": "code",
   "execution_count": null,
   "id": "5c921cc2-7f25-4c3b-a855-42fbc4d9abc3",
   "metadata": {},
   "outputs": [],
   "source": []
  }
 ],
 "metadata": {
  "kernelspec": {
   "display_name": "Python 3 (ipykernel)",
   "language": "python",
   "name": "python3"
  },
  "language_info": {
   "codemirror_mode": {
    "name": "ipython",
    "version": 3
   },
   "file_extension": ".py",
   "mimetype": "text/x-python",
   "name": "python",
   "nbconvert_exporter": "python",
   "pygments_lexer": "ipython3",
   "version": "3.12.7"
  }
 },
 "nbformat": 4,
 "nbformat_minor": 5
}
