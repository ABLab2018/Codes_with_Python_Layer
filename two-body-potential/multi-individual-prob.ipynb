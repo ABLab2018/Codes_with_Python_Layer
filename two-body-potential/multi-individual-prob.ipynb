{
 "cells": [
  {
   "cell_type": "code",
   "execution_count": 1,
   "id": "8a80463c-16e0-4167-b719-1bada3f7a843",
   "metadata": {},
   "outputs": [
    {
     "name": "stdout",
     "output_type": "stream",
     "text": [
      "✅ Fortran program executed\n"
     ]
    }
   ],
   "source": [
    "import subprocess\n",
    "import os\n",
    "import glob\n",
    "\n",
    "# --- Step 1: Save the Fortran program into a file ---\n",
    "code = r\"\"\"\n",
    "\tparameter (n=20)\n",
    "\t\n",
    "\tcharacter aa(n)*1\n",
    "\treal prob(n), probmulti(n,n)\n",
    "\n",
    "\topen(1,file=\"individual-occur-prob-file\")\n",
    "\topen(2,file=\"multi-individual-prob-file\")\n",
    "\n",
    "\tdo i=1,n\n",
    "\tread(1,\"(a1,18x,f7.3)\") aa(i),prob(i)\n",
    "\tenddo\n",
    "\n",
    "\tdo i=1,n\n",
    "\tdo j=1,n\n",
    "\n",
    "\tprobmulti(i,j)=prob(i)*prob(j)\n",
    "\n",
    "\twrite(2,\"(a1,a1,5x,f8.6)\") aa(i),aa(j), probmulti(i,j)\n",
    "\n",
    "\tenddo\n",
    "\tenddo\n",
    "\n",
    "\tstop\n",
    "\tend\n",
    "\"\"\"\n",
    "\n",
    "with open(\"multi-individual-prob.f\", \"w\") as f:\n",
    "    f.write(code)\n",
    "# --- Step 2: Compile the Fortran code using gfortran ---\n",
    "\n",
    "subprocess.run([\"gfortran\", \"multi-individual-prob.f\", \"-o\", \"multi-individual-prob\"], check=True)\n",
    "\n",
    "# Step 3: Run the Fortran executable \n",
    "subprocess.run([\"./multi-individual-prob\"], check=True)\n",
    "print(\"✅ Fortran program executed\")\n"
   ]
  },
  {
   "cell_type": "code",
   "execution_count": null,
   "id": "b47f22c1-8095-43a8-a2c1-5eb037b5c6d1",
   "metadata": {},
   "outputs": [],
   "source": []
  }
 ],
 "metadata": {
  "kernelspec": {
   "display_name": "Python 3 (ipykernel)",
   "language": "python",
   "name": "python3"
  },
  "language_info": {
   "codemirror_mode": {
    "name": "ipython",
    "version": 3
   },
   "file_extension": ".py",
   "mimetype": "text/x-python",
   "name": "python",
   "nbconvert_exporter": "python",
   "pygments_lexer": "ipython3",
   "version": "3.12.7"
  }
 },
 "nbformat": 4,
 "nbformat_minor": 5
}
