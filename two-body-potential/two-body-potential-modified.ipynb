{
 "cells": [
  {
   "cell_type": "code",
   "execution_count": 1,
   "id": "3284fe11-2d84-47ee-989b-5e99ed08e275",
   "metadata": {},
   "outputs": [
    {
     "name": "stdout",
     "output_type": "stream",
     "text": [
      "✅ Fortran program executed\n"
     ]
    }
   ],
   "source": [
    "import subprocess\n",
    "import os\n",
    "import glob\n",
    "\n",
    "# --- Step 1: Save the Fortran program into a file ---\n",
    "code = r\"\"\"\n",
    "\tparameter (n=400)\n",
    "\tcharacter a1(n)*1,a2(n)*1\n",
    "\treal mulprob(n),actprob(n),pot(n),pott(n)\n",
    "\n",
    "\n",
    "\topen(1,file=\"multi-indi-prob-and-actual-pair-prob-file-new\")\n",
    "\topen(2,file=\"aminoacids-pair\")\n",
    "\n",
    "\topen(4,file=\"new-potential-file-CA-0-5-modified\")\n",
    "\n",
    "\tdo i=1,n\n",
    "\tread(1,100) a1(i),a2(i),mulprob(i),actprob(i)\n",
    "100\tformat(a1,a1,5x,f8.6,5x,f8.6)\n",
    "c\twrite(*,*) aa(i),mulprob(i),actprob(i)\n",
    "\tenddo\n",
    "\n",
    "\n",
    "\tdo i=1,n\n",
    "\tpot(i)=0\n",
    "\tpott(i)=0\n",
    "\n",
    "\tif (a1(i) .eq. a2(i)) then\n",
    "\tpot(i)= -LOG(actprob(i)/mulprob(i))*actprob(i)\n",
    "\t\n",
    "\telseif (a1(i) .ne. a2(i)) then\n",
    "\tpot(i)= -LOG(actprob(i)/(2*mulprob(i)))*actprob(i)\n",
    "\tendif\n",
    "\n",
    "\twrite(4,\"(a1,a1,5x,f8.6,5x,f8.6,5x,f9.6)\") a1(i),a2(i),\n",
    "     $   mulprob(i),actprob(i),pot(i)\n",
    "\t\n",
    "\tenddo\n",
    "\n",
    "\n",
    "\tstop\n",
    "\tend\n",
    "\"\"\"\n",
    "\n",
    "with open(\"two-body-potential-modified.f\", \"w\") as f:\n",
    "    f.write(code)\n",
    "# --- Step 2: Compile the Fortran code using gfortran ---\n",
    "\n",
    "subprocess.run([\"gfortran\", \"two-body-potential-modified.f\", \"-o\", \"two-body-potential-modified\"], check=True)\n",
    "\n",
    "# Step 3: Run the Fortran executable \n",
    "subprocess.run([\"./two-body-potential-modified\"], check=True)\n",
    "print(\"✅ Fortran program executed\")\n"
   ]
  },
  {
   "cell_type": "code",
   "execution_count": null,
   "id": "59a1881e-d3d6-4c27-a7c0-39303ebb5f88",
   "metadata": {},
   "outputs": [],
   "source": []
  }
 ],
 "metadata": {
  "kernelspec": {
   "display_name": "Python 3 (ipykernel)",
   "language": "python",
   "name": "python3"
  },
  "language_info": {
   "codemirror_mode": {
    "name": "ipython",
    "version": 3
   },
   "file_extension": ".py",
   "mimetype": "text/x-python",
   "name": "python",
   "nbconvert_exporter": "python",
   "pygments_lexer": "ipython3",
   "version": "3.12.7"
  }
 },
 "nbformat": 4,
 "nbformat_minor": 5
}
